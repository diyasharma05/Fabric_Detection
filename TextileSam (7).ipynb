{
  "cells": [
    {
      "cell_type": "markdown",
      "metadata": {
        "id": "lo43v2HiG2Mb"
      },
      "source": []
    },
    {
      "cell_type": "code",
      "execution_count": 1,
      "metadata": {
        "colab": {
          "base_uri": "https://localhost:8080/"
        },
        "id": "aiilLn-9GUtp",
        "outputId": "8adc8e47-15d7-4c20-c577-64870d3c6c08"
      },
      "outputs": [
        {
          "name": "stdout",
          "output_type": "stream",
          "text": [
            "Mounted at /content/drive\n"
          ]
        }
      ],
      "source": [
        "from google.colab import drive\n",
        "drive.mount('/content/drive')"
      ]
    },
    {
      "cell_type": "code",
      "execution_count": 2,
      "metadata": {
        "colab": {
          "base_uri": "https://localhost:8080/"
        },
        "id": "6IHNF-joZ5m_",
        "outputId": "a6d237bf-d388-45ca-f050-c816cb1c2cc8"
      },
      "outputs": [
        {
          "name": "stdout",
          "output_type": "stream",
          "text": [
            "Collecting git+https://github.com/facebookresearch/segment-anything.git\n",
            "  Cloning https://github.com/facebookresearch/segment-anything.git to /tmp/pip-req-build-8fiedivh\n",
            "  Running command git clone --filter=blob:none --quiet https://github.com/facebookresearch/segment-anything.git /tmp/pip-req-build-8fiedivh\n",
            "  Resolved https://github.com/facebookresearch/segment-anything.git to commit 6fdee8f2727f4506cfbbe553e23b895e27956588\n",
            "  Preparing metadata (setup.py) ... \u001b[?25l\u001b[?25hdone\n",
            "Building wheels for collected packages: segment-anything\n",
            "  Building wheel for segment-anything (setup.py) ... \u001b[?25l\u001b[?25hdone\n",
            "  Created wheel for segment-anything: filename=segment_anything-1.0-py3-none-any.whl size=36590 sha256=c88f0f501b5d299314987dbb5d7aca0bcb406e51da903939cc175cee0bcd8f5c\n",
            "  Stored in directory: /tmp/pip-ephem-wheel-cache-p3u7zl3g/wheels/10/cf/59/9ccb2f0a1bcc81d4fbd0e501680b5d088d690c6cfbc02dc99d\n",
            "Successfully built segment-anything\n",
            "Installing collected packages: segment-anything\n",
            "Successfully installed segment-anything-1.0\n",
            "  Installing build dependencies ... \u001b[?25l\u001b[?25hdone\n",
            "  Getting requirements to build wheel ... \u001b[?25l\u001b[?25hdone\n",
            "  Preparing metadata (pyproject.toml) ... \u001b[?25l\u001b[?25hdone\n",
            "  Building wheel for transformers (pyproject.toml) ... \u001b[?25l\u001b[?25hdone\n",
            "Collecting datasets\n",
            "  Downloading datasets-2.18.0-py3-none-any.whl (510 kB)\n",
            "\u001b[2K     \u001b[90m━━━━━━━━━━━━━━━━━━━━━━━━━━━━━━━━━━━━━━━━\u001b[0m \u001b[32m510.5/510.5 kB\u001b[0m \u001b[31m8.1 MB/s\u001b[0m eta \u001b[36m0:00:00\u001b[0m\n",
            "\u001b[?25hRequirement already satisfied: filelock in /usr/local/lib/python3.10/dist-packages (from datasets) (3.13.3)\n",
            "Requirement already satisfied: numpy>=1.17 in /usr/local/lib/python3.10/dist-packages (from datasets) (1.25.2)\n",
            "Requirement already satisfied: pyarrow>=12.0.0 in /usr/local/lib/python3.10/dist-packages (from datasets) (14.0.2)\n",
            "Requirement already satisfied: pyarrow-hotfix in /usr/local/lib/python3.10/dist-packages (from datasets) (0.6)\n",
            "Collecting dill<0.3.9,>=0.3.0 (from datasets)\n",
            "  Downloading dill-0.3.8-py3-none-any.whl (116 kB)\n",
            "\u001b[2K     \u001b[90m━━━━━━━━━━━━━━━━━━━━━━━━━━━━━━━━━━━━━━━━\u001b[0m \u001b[32m116.3/116.3 kB\u001b[0m \u001b[31m9.8 MB/s\u001b[0m eta \u001b[36m0:00:00\u001b[0m\n",
            "\u001b[?25hRequirement already satisfied: pandas in /usr/local/lib/python3.10/dist-packages (from datasets) (1.5.3)\n",
            "Requirement already satisfied: requests>=2.19.0 in /usr/local/lib/python3.10/dist-packages (from datasets) (2.31.0)\n",
            "Requirement already satisfied: tqdm>=4.62.1 in /usr/local/lib/python3.10/dist-packages (from datasets) (4.66.2)\n",
            "Collecting xxhash (from datasets)\n",
            "  Downloading xxhash-3.4.1-cp310-cp310-manylinux_2_17_x86_64.manylinux2014_x86_64.whl (194 kB)\n",
            "\u001b[2K     \u001b[90m━━━━━━━━━━━━━━━━━━━━━━━━━━━━━━━━━━━━━━━━\u001b[0m \u001b[32m194.1/194.1 kB\u001b[0m \u001b[31m11.2 MB/s\u001b[0m eta \u001b[36m0:00:00\u001b[0m\n",
            "\u001b[?25hCollecting multiprocess (from datasets)\n",
            "  Downloading multiprocess-0.70.16-py310-none-any.whl (134 kB)\n",
            "\u001b[2K     \u001b[90m━━━━━━━━━━━━━━━━━━━━━━━━━━━━━━━━━━━━━━━━\u001b[0m \u001b[32m134.8/134.8 kB\u001b[0m \u001b[31m11.2 MB/s\u001b[0m eta \u001b[36m0:00:00\u001b[0m\n",
            "\u001b[?25hRequirement already satisfied: fsspec[http]<=2024.2.0,>=2023.1.0 in /usr/local/lib/python3.10/dist-packages (from datasets) (2023.6.0)\n",
            "Requirement already satisfied: aiohttp in /usr/local/lib/python3.10/dist-packages (from datasets) (3.9.3)\n",
            "Requirement already satisfied: huggingface-hub>=0.19.4 in /usr/local/lib/python3.10/dist-packages (from datasets) (0.20.3)\n",
            "Requirement already satisfied: packaging in /usr/local/lib/python3.10/dist-packages (from datasets) (24.0)\n",
            "Requirement already satisfied: pyyaml>=5.1 in /usr/local/lib/python3.10/dist-packages (from datasets) (6.0.1)\n",
            "Requirement already satisfied: aiosignal>=1.1.2 in /usr/local/lib/python3.10/dist-packages (from aiohttp->datasets) (1.3.1)\n",
            "Requirement already satisfied: attrs>=17.3.0 in /usr/local/lib/python3.10/dist-packages (from aiohttp->datasets) (23.2.0)\n",
            "Requirement already satisfied: frozenlist>=1.1.1 in /usr/local/lib/python3.10/dist-packages (from aiohttp->datasets) (1.4.1)\n",
            "Requirement already satisfied: multidict<7.0,>=4.5 in /usr/local/lib/python3.10/dist-packages (from aiohttp->datasets) (6.0.5)\n",
            "Requirement already satisfied: yarl<2.0,>=1.0 in /usr/local/lib/python3.10/dist-packages (from aiohttp->datasets) (1.9.4)\n",
            "Requirement already satisfied: async-timeout<5.0,>=4.0 in /usr/local/lib/python3.10/dist-packages (from aiohttp->datasets) (4.0.3)\n",
            "Requirement already satisfied: typing-extensions>=3.7.4.3 in /usr/local/lib/python3.10/dist-packages (from huggingface-hub>=0.19.4->datasets) (4.10.0)\n",
            "Requirement already satisfied: charset-normalizer<4,>=2 in /usr/local/lib/python3.10/dist-packages (from requests>=2.19.0->datasets) (3.3.2)\n",
            "Requirement already satisfied: idna<4,>=2.5 in /usr/local/lib/python3.10/dist-packages (from requests>=2.19.0->datasets) (3.6)\n",
            "Requirement already satisfied: urllib3<3,>=1.21.1 in /usr/local/lib/python3.10/dist-packages (from requests>=2.19.0->datasets) (2.0.7)\n",
            "Requirement already satisfied: certifi>=2017.4.17 in /usr/local/lib/python3.10/dist-packages (from requests>=2.19.0->datasets) (2024.2.2)\n",
            "Requirement already satisfied: python-dateutil>=2.8.1 in /usr/local/lib/python3.10/dist-packages (from pandas->datasets) (2.8.2)\n",
            "Requirement already satisfied: pytz>=2020.1 in /usr/local/lib/python3.10/dist-packages (from pandas->datasets) (2023.4)\n",
            "Requirement already satisfied: six>=1.5 in /usr/local/lib/python3.10/dist-packages (from python-dateutil>=2.8.1->pandas->datasets) (1.16.0)\n",
            "Installing collected packages: xxhash, dill, multiprocess, datasets\n",
            "Successfully installed datasets-2.18.0 dill-0.3.8 multiprocess-0.70.16 xxhash-3.4.1\n",
            "\u001b[2K     \u001b[90m━━━━━━━━━━━━━━━━━━━━━━━━━━━━━━━━━━━━━━━━\u001b[0m \u001b[32m1.3/1.3 MB\u001b[0m \u001b[31m12.2 MB/s\u001b[0m eta \u001b[36m0:00:00\u001b[0m\n",
            "\u001b[2K     \u001b[90m━━━━━━━━━━━━━━━━━━━━━━━━━━━━━━━━━━━━━━━━\u001b[0m \u001b[32m23.7/23.7 MB\u001b[0m \u001b[31m65.8 MB/s\u001b[0m eta \u001b[36m0:00:00\u001b[0m\n",
            "\u001b[2K     \u001b[90m━━━━━━━━━━━━━━━━━━━━━━━━━━━━━━━━━━━━━━━━\u001b[0m \u001b[32m823.6/823.6 kB\u001b[0m \u001b[31m51.9 MB/s\u001b[0m eta \u001b[36m0:00:00\u001b[0m\n",
            "\u001b[2K     \u001b[90m━━━━━━━━━━━━━━━━━━━━━━━━━━━━━━━━━━━━━━━━\u001b[0m \u001b[32m14.1/14.1 MB\u001b[0m \u001b[31m83.0 MB/s\u001b[0m eta \u001b[36m0:00:00\u001b[0m\n",
            "\u001b[2K     \u001b[90m━━━━━━━━━━━━━━━━━━━━━━━━━━━━━━━━━━━━━━━━\u001b[0m \u001b[32m731.7/731.7 MB\u001b[0m \u001b[31m2.3 MB/s\u001b[0m eta \u001b[36m0:00:00\u001b[0m\n",
            "\u001b[2K     \u001b[90m━━━━━━━━━━━━━━━━━━━━━━━━━━━━━━━━━━━━━━━━\u001b[0m \u001b[32m410.6/410.6 MB\u001b[0m \u001b[31m3.8 MB/s\u001b[0m eta \u001b[36m0:00:00\u001b[0m\n",
            "\u001b[2K     \u001b[90m━━━━━━━━━━━━━━━━━━━━━━━━━━━━━━━━━━━━━━━━\u001b[0m \u001b[32m121.6/121.6 MB\u001b[0m \u001b[31m8.3 MB/s\u001b[0m eta \u001b[36m0:00:00\u001b[0m\n",
            "\u001b[2K     \u001b[90m━━━━━━━━━━━━━━━━━━━━━━━━━━━━━━━━━━━━━━━━\u001b[0m \u001b[32m56.5/56.5 MB\u001b[0m \u001b[31m11.5 MB/s\u001b[0m eta \u001b[36m0:00:00\u001b[0m\n",
            "\u001b[2K     \u001b[90m━━━━━━━━━━━━━━━━━━━━━━━━━━━━━━━━━━━━━━━━\u001b[0m \u001b[32m124.2/124.2 MB\u001b[0m \u001b[31m8.8 MB/s\u001b[0m eta \u001b[36m0:00:00\u001b[0m\n",
            "\u001b[2K     \u001b[90m━━━━━━━━━━━━━━━━━━━━━━━━━━━━━━━━━━━━━━━━\u001b[0m \u001b[32m196.0/196.0 MB\u001b[0m \u001b[31m6.7 MB/s\u001b[0m eta \u001b[36m0:00:00\u001b[0m\n",
            "\u001b[2K     \u001b[90m━━━━━━━━━━━━━━━━━━━━━━━━━━━━━━━━━━━━━━━━\u001b[0m \u001b[32m166.0/166.0 MB\u001b[0m \u001b[31m7.1 MB/s\u001b[0m eta \u001b[36m0:00:00\u001b[0m\n",
            "\u001b[2K     \u001b[90m━━━━━━━━━━━━━━━━━━━━━━━━━━━━━━━━━━━━━━━━\u001b[0m \u001b[32m99.1/99.1 kB\u001b[0m \u001b[31m14.7 MB/s\u001b[0m eta \u001b[36m0:00:00\u001b[0m\n",
            "\u001b[2K     \u001b[90m━━━━━━━━━━━━━━━━━━━━━━━━━━━━━━━━━━━━━━━━\u001b[0m \u001b[32m21.1/21.1 MB\u001b[0m \u001b[31m88.3 MB/s\u001b[0m eta \u001b[36m0:00:00\u001b[0m\n",
            "\u001b[?25hCollecting patchify\n",
            "  Downloading patchify-0.2.3-py3-none-any.whl (6.6 kB)\n",
            "Requirement already satisfied: numpy<2,>=1 in /usr/local/lib/python3.10/dist-packages (from patchify) (1.25.2)\n",
            "Installing collected packages: patchify\n",
            "Successfully installed patchify-0.2.3\n"
          ]
        }
      ],
      "source": [
        "! pip install git+https://github.com/facebookresearch/segment-anything.git\n",
        "!pip install -q git+https://github.com/huggingface/transformers.git\n",
        "!pip install datasets\n",
        "!pip install -q monai\n",
        "!pip install patchify"
      ]
    },
    {
      "cell_type": "code",
      "execution_count": 140,
      "metadata": {
        "id": "dfskKkARfu4v"
      },
      "outputs": [],
      "source": [
        "import numpy as np\n",
        "import glob ,os\n",
        "import cv2\n",
        "import matplotlib.pyplot as plt\n",
        "from patchify import patchify\n",
        "import random\n",
        "from scipy import ndimage\n",
        "from datasets import Dataset\n",
        "from PIL import Image\n",
        "import random\n",
        "import torch\n",
        "from transformers import SamModel, SamConfig, SamProcessor\n"
      ]
    },
    {
      "cell_type": "markdown",
      "metadata": {
        "id": "0zSdn_otG1GY"
      },
      "source": [
        "Converting Images into numpy arrays\n"
      ]
    },
    {
      "cell_type": "code",
      "execution_count": 4,
      "metadata": {
        "colab": {
          "base_uri": "https://localhost:8080/"
        },
        "id": "I_QbxTpEGnd3",
        "outputId": "0a8d4691-50ff-422b-9882-7882925d485d"
      },
      "outputs": [
        {
          "data": {
            "text/plain": [
              "(309, 360, 640, 3)"
            ]
          },
          "execution_count": 4,
          "metadata": {},
          "output_type": "execute_result"
        }
      ],
      "source": [
        "imgfolder='/content/drive/MyDrive/fabric_sam/train/images'\n",
        "img=sorted(glob.glob(imgfolder+'/*.jpg'))\n",
        "imgarr=[]\n",
        "for i in img:\n",
        "  im=cv2.imread(i)\n",
        "  imgarr.append(im)\n",
        "images=np.array(imgarr)\n",
        "images.shape"
      ]
    },
    {
      "cell_type": "code",
      "execution_count": 5,
      "metadata": {
        "id": "qIU_bVc8r44M"
      },
      "outputs": [],
      "source": [
        "imgname=os.listdir(imgfolder)\n",
        "imgname=sorted(imgname)"
      ]
    },
    {
      "cell_type": "code",
      "execution_count": 6,
      "metadata": {
        "id": "1p6A90quHjZW"
      },
      "outputs": [],
      "source": [
        "maskfolder='/content/drive/MyDrive/fabric_sam/train/masks'\n",
        "mask=sorted(glob.glob(maskfolder+'/*.jpg'))\n",
        "maskarr=[]\n",
        "for i in mask:\n",
        "  mas=cv2.imread(i)\n",
        "  maskarr.append(mas)\n",
        "masks=np.array(maskarr)"
      ]
    },
    {
      "cell_type": "code",
      "execution_count": 7,
      "metadata": {
        "id": "bbNbxNpFr6ZU"
      },
      "outputs": [],
      "source": [
        "maskname=os.listdir(maskfolder)\n",
        "maskname=sorted(maskname)"
      ]
    },
    {
      "cell_type": "code",
      "execution_count": 8,
      "metadata": {
        "colab": {
          "base_uri": "https://localhost:8080/"
        },
        "id": "pyr3gYnyJUtu",
        "outputId": "94db0a80-cc4c-4bfc-902a-d6435659411e"
      },
      "outputs": [
        {
          "data": {
            "text/plain": [
              "(309, 360, 640, 3)"
            ]
          },
          "execution_count": 8,
          "metadata": {},
          "output_type": "execute_result"
        }
      ],
      "source": [
        "masks.shape"
      ]
    },
    {
      "cell_type": "markdown",
      "metadata": {
        "id": "iYY1pJ4fbo9S"
      },
      "source": [
        "Creating Dataset"
      ]
    },
    {
      "cell_type": "code",
      "execution_count": 9,
      "metadata": {
        "id": "TOMHSRBuJWU7"
      },
      "outputs": [],
      "source": [
        "data={\n",
        "    \"image\":[Image.fromarray(imag) for imag in images],\n",
        "    \"masks\":[Image.fromarray(mas) for mas in masks],\n",
        "}\n"
      ]
    },
    {
      "cell_type": "code",
      "execution_count": 10,
      "metadata": {
        "id": "-C-2MQ6BJxM3"
      },
      "outputs": [],
      "source": [
        "dataset = Dataset.from_dict(data)"
      ]
    },
    {
      "cell_type": "code",
      "execution_count": 11,
      "metadata": {
        "colab": {
          "base_uri": "https://localhost:8080/"
        },
        "id": "kVR8bgsGJzJa",
        "outputId": "25ac43ff-cffd-456c-cdaf-c166ba010c18"
      },
      "outputs": [
        {
          "data": {
            "text/plain": [
              "Dataset({\n",
              "    features: ['image', 'masks'],\n",
              "    num_rows: 309\n",
              "})"
            ]
          },
          "execution_count": 11,
          "metadata": {},
          "output_type": "execute_result"
        }
      ],
      "source": [
        "dataset"
      ]
    },
    {
      "cell_type": "markdown",
      "metadata": {
        "id": "6q8xd2j9uqdZ"
      },
      "source": [
        "Checking that images and masks are properly mapped"
      ]
    },
    {
      "cell_type": "code",
      "execution_count": 13,
      "metadata": {
        "colab": {
          "base_uri": "https://localhost:8080/",
          "height": 316
        },
        "id": "sw8gWOQDJ3UO",
        "outputId": "9a12d57c-e2e8-43dc-c7b2-3fb50cd0ae28"
      },
      "outputs": [
        {
          "name": "stdout",
          "output_type": "stream",
          "text": [
            "ImageName: hole_46_original(3).jpg\n",
            "MaskName: hole_46_original(3).jpg\n"
          ]
        },
        {
          "data": {
            "image/png": "[encoded data removed]",
            "text/plain": [
              "<Figure size 1000x500 with 2 Axes>"
            ]
          },
          "metadata": {},
          "output_type": "display_data"
        }
      ],
      "source": [
        "\n",
        "img_num = random.randint(0, images.shape[0]-1)\n",
        "testimage = dataset[img_num][\"image\"]\n",
        "testmask = dataset[img_num][\"masks\"]\n",
        "\n",
        "fig, axes = plt.subplots(1, 2, figsize=(10, 5))\n",
        "\n",
        "print(f\"ImageName: {imgname[img_num]}\")\n",
        "axes[0].imshow(np.array(testimage))\n",
        "axes[0].set_title(\"Image\")\n",
        "\n",
        "print(f\"MaskName: {maskname[img_num]}\")\n",
        "axes[1].imshow(testmask, cmap='gray')\n",
        "axes[1].set_title(\"Mask\")\n",
        "\n",
        "plt.show()\n"
      ]
    },
    {
      "cell_type": "markdown",
      "metadata": {
        "id": "0yGsdBnWu86p"
      },
      "source": [
        "Obtaining Bounding Box to feed in as a prompt to SAM Model"
      ]
    },
    {
      "cell_type": "code",
      "execution_count": null,
      "metadata": {
        "id": "3HWxfHdXJ4e2"
      },
      "outputs": [],
      "source": [
        "# #obtaining bounding boxes from mask\n",
        "# this function to obtain bounding box does not work because the ground truth i.e. defects are highly fragmented in it\n",
        "# this could have been useful in images with fewer instances. also since dividing these images into patches would not yeild much as the fucntion would still need to return 100s of boxes in each patch\n",
        "# def promptbox(mask)\n",
        "#   y,x=np.where(mask>0)#marks all the white portion depecting the defect\n",
        "#   ymax=np.max(y)\n",
        "#   xmax=np.max(x)\n",
        "#   ymin=np.min(y)\n",
        "#   xmin=np.min(x)\n",
        "#   # to ensure a greater range\n",
        "#   h,w=mask.shape\n",
        "#   xmin = max(0, xmin - np.random.randint(0, 20))\n",
        "#   xmax = min(w, xmax + np.random.randint(0, 20))\n",
        "#   ymin = max(0, ymin - np.random.randint(0, 20))\n",
        "#   ymax = min(h, ymax + np.random.randint(0, 20))\n",
        "#   box=[xmin,ymin,xmax,ymax]\n",
        "#   return box\n"
      ]
    },
    {
      "cell_type": "code",
      "execution_count": 14,
      "metadata": {
        "colab": {
          "base_uri": "https://localhost:8080/"
        },
        "id": "_MJxDR_F-r99",
        "outputId": "ceb9e4aa-904c-446d-e8b7-4238911637f4"
      },
      "outputs": [
        {
          "name": "stdout",
          "output_type": "stream",
          "text": [
            "Bounding Box 1: [268, 338, 301, 360]\n",
            "Bounding Box 2: [152, 335, 201, 360]\n",
            "Bounding Box 3: [501, 326, 547, 360]\n",
            "Bounding Box 4: [215, 326, 290, 360]\n",
            "Bounding Box 5: [0, 322, 86, 360]\n",
            "Bounding Box 6: [78, 325, 139, 360]\n",
            "Bounding Box 7: [309, 317, 522, 360]\n",
            "Bounding Box 8: [538, 290, 640, 360]\n",
            "Bounding Box 9: [0, 290, 29, 358]\n",
            "Bounding Box 10: [528, 265, 568, 303]\n",
            "Bounding Box 11: [379, 275, 437, 325]\n",
            "Bounding Box 12: [329, 257, 391, 319]\n",
            "Bounding Box 13: [491, 259, 533, 301]\n",
            "Bounding Box 14: [0, 213, 27, 306]\n",
            "Bounding Box 15: [0, 179, 13, 206]\n",
            "Bounding Box 16: [252, 156, 284, 188]\n",
            "Bounding Box 17: [0, 146, 15, 167]\n",
            "Bounding Box 18: [0, 88, 21, 144]\n",
            "Bounding Box 19: [159, 85, 196, 132]\n",
            "Bounding Box 20: [25, 55, 121, 144]\n",
            "Bounding Box 21: [108, 29, 147, 68]\n",
            "Bounding Box 22: [458, 26, 487, 55]\n",
            "Bounding Box 23: [425, 17, 470, 63]\n",
            "Bounding Box 24: [501, 4, 555, 52]\n",
            "Bounding Box 25: [356, 4, 428, 84]\n",
            "Bounding Box 26: [591, 0, 640, 49]\n",
            "Bounding Box 27: [121, 8, 160, 40]\n",
            "Bounding Box 28: [400, 0, 433, 24]\n",
            "Bounding Box 29: [346, 0, 398, 29]\n",
            "Bounding Box 30: [292, 0, 329, 20]\n",
            "Bounding Box 31: [25, 0, 127, 63]\n",
            "Bounding Box 32: [0, 0, 64, 97]\n"
          ]
        }
      ],
      "source": [
        "# function to cluster minutr defects and reduce number of bounding boxes\n",
        "#even after applying morphological dilation it gives around 30 boxes in the example mask\n",
        "# since these boxes would act as a prompt so they could be reduced even further\n",
        "\n",
        "\n",
        "def promptbox(mask):\n",
        "    if len(mask.shape) == 3:\n",
        "        mask = cv2.cvtColor(mask, cv2.COLOR_RGB2GRAY)\n",
        "    mask = mask.astype(np.uint8)\n",
        "    _, binary_mask = cv2.threshold(mask, 1, 255, cv2.THRESH_BINARY)\n",
        "    kernel = np.ones((5, 5), np.uint8)\n",
        "    dilated_mask = cv2.dilate(binary_mask, kernel, iterations=2)\n",
        "    contours, _ = cv2.findContours(dilated_mask, cv2.RETR_EXTERNAL, cv2.CHAIN_APPROX_SIMPLE)\n",
        "    bounding_boxes = []\n",
        "\n",
        "    for contour in contours:\n",
        "        x, y, w, h = cv2.boundingRect(contour)\n",
        "\n",
        "\n",
        "        padding = np.random.randint(0, 20)\n",
        "        xmin = max(0, x - padding)\n",
        "        ymin = max(0, y - padding)\n",
        "        xmax = min(mask.shape[1], x + w + padding)\n",
        "        ymax = min(mask.shape[0], y + h + padding)\n",
        "\n",
        "        bounding_boxes.append([xmin, ymin, xmax, ymax])\n",
        "\n",
        "    return bounding_boxes\n",
        "\n",
        "example_mask_array = masks[0]\n",
        "bounding_boxes = promptbox(example_mask_array)\n",
        "for i, bbox in enumerate(bounding_boxes):\n",
        "    print(f\"Bounding Box {i+1}: {bbox}\")\n"
      ]
    },
    {
      "cell_type": "code",
      "execution_count": 15,
      "metadata": {
        "colab": {
          "base_uri": "https://localhost:8080/"
        },
        "id": "uKBnnOr4_jcC",
        "outputId": "4877c32e-109c-4779-c829-d77c4688a275"
      },
      "outputs": [
        {
          "name": "stdout",
          "output_type": "stream",
          "text": [
            "Bounding Box 1: [318, 348, 342, 360]\n",
            "Bounding Box 2: [25, 349, 50, 360]\n",
            "Bounding Box 3: [626, 330, 640, 360]\n",
            "Bounding Box 4: [0, 230, 12, 296]\n",
            "Bounding Box 5: [255, 155, 283, 188]\n",
            "Bounding Box 6: [42, 89, 112, 131]\n",
            "Bounding Box 7: [0, 50, 17, 81]\n",
            "Bounding Box 8: [67, 36, 104, 59]\n",
            "Bounding Box 9: [375, 28, 410, 62]\n",
            "Bounding Box 10: [32, 21, 54, 51]\n",
            "Bounding Box 11: [131, 13, 149, 33]\n",
            "Bounding Box 12: [69, 5, 121, 43]\n",
            "Bounding Box 13: [60, 0, 106, 16]\n",
            "Bounding Box 14: [0, 0, 14, 45]\n"
          ]
        }
      ],
      "source": [
        "\n",
        "\n",
        "def promptbox(mask):\n",
        "    if len(mask.shape) == 3:\n",
        "        mask = cv2.cvtColor(mask, cv2.COLOR_RGB2GRAY)\n",
        "    blurred_mask = cv2.GaussianBlur(mask, (3, 3), 0)\n",
        "    _, binary_mask = cv2.threshold(blurred_mask, 1, 255, cv2.THRESH_BINARY)\n",
        "    kernel = np.ones((3, 3), np.uint8)\n",
        "    closed_mask = cv2.morphologyEx(binary_mask, cv2.MORPH_CLOSE, kernel)\n",
        "    contours, _ = cv2.findContours(closed_mask, cv2.RETR_EXTERNAL, cv2.CHAIN_APPROX_SIMPLE)\n",
        "    bounding_boxes = []\n",
        "\n",
        "    for contour in contours:\n",
        "        x, y, w, h = cv2.boundingRect(contour)\n",
        "        if cv2.contourArea(contour) < 100: \n",
        "            continue\n",
        "        padding = np.random.randint(0, 10)\n",
        "        xmin = max(0, x - padding)\n",
        "        ymin = max(0, y - padding)\n",
        "        xmax = min(mask.shape[1], x + w + padding)\n",
        "        ymax = min(mask.shape[0], y + h + padding)\n",
        "\n",
        "        bounding_boxes.append([xmin, ymin, xmax, ymax])\n",
        "\n",
        "    return bounding_boxes\n",
        "\n",
        "example_mask_array = masks[0]\n",
        "bounding_boxes = promptbox(example_mask_array)\n",
        "for i, bbox in enumerate(bounding_boxes):\n",
        "    print(f\"Bounding Box {i+1}: {bbox}\")\n"
      ]
    },
    {
      "cell_type": "code",
      "execution_count": 16,
      "metadata": {
        "colab": {
          "base_uri": "https://localhost:8080/",
          "height": 377
        },
        "id": "U3tLoTS9A981",
        "outputId": "9c588f05-a050-4393-81e7-832cecff7be1"
      },
      "outputs": [
        {
          "data": {
            "image/png": "[encoded data removed]",
            "text/plain": [
              "<PIL.Image.Image image mode=RGB size=640x360>"
            ]
          },
          "metadata": {},
          "output_type": "display_data"
        }
      ],
      "source": [
        "from google.colab.patches import cv2_imshow\n",
        "import cv2\n",
        "import numpy as np\n",
        "\n",
        "example_mask_array = masks[0]\n",
        "if len(example_mask_array.shape) == 2:\n",
        "    mask_with_boxes = cv2.cvtColor(example_mask_array, cv2.COLOR_GRAY2BGR)\n",
        "else:\n",
        "    mask_with_boxes = example_mask_array.copy()\n",
        "\n",
        "for bbox in bounding_boxes:\n",
        "    xmin, ymin, xmax, ymax = bbox\n",
        "    cv2.rectangle(mask_with_boxes, (xmin, ymin), (xmax, ymax), (0, 255, 0), 2)  \n",
        "\n",
        "# Display the mask with bounding boxes\n",
        "cv2_imshow(mask_with_boxes)"
      ]
    },
    {
      "cell_type": "markdown",
      "metadata": {
        "id": "Ot8oQNomAARX"
      },
      "source": [
        "Dataset Preparation"
      ]
    },
    {
      "cell_type": "code",
      "execution_count": null,
      "metadata": {
        "id": "0YrwBACzUlzu"
      },
      "outputs": [],
      "source": [
        "from torch.utils.data import Dataset\n",
        "\n",
        "class SAMDataset(Dataset):\n",
        "  \"\"\"\n",
        "  This class is used to create a dataset that serves input images and masks.\n",
        "  It takes a dataset and a processor as input and overrides the __len__ and __getitem__ methods of the Dataset class.\n",
        "  \"\"\"\n",
        "  def __init__(self, dataset, processor):\n",
        "    self.dataset = dataset\n",
        "    self.processor = processor\n",
        "\n",
        "  def __len__(self):\n",
        "    return len(self.dataset)\n",
        "\n",
        "  def __getitem__(self, idx):\n",
        "    item = self.dataset[idx]\n",
        "    image = item[\"image\"]\n",
        "    ground_truth_mask = np.array(item[\"masks\"])\n",
        "\n",
        "    prompt = promptbox(ground_truth_mask)\n",
        "\n",
        "    inputs = self.processor(image, input_boxes=[[prompt]], return_tensors=\"pt\")\n",
        "\n",
        "    inputs = {k:v.squeeze(0) for k,v in inputs.items()}\n",
        "\n",
        "    inputs[\"ground_truth_mask\"] = ground_truth_mask\n",
        "\n",
        "    return inputs"
      ]
    },
    {
      "cell_type": "code",
      "execution_count": 18,
      "metadata": {
        "colab": {
          "base_uri": "https://localhost:8080/",
          "height": 173,
          "referenced_widgets": [
            "ce69ac704744482eb6d1ccb5ed372921",
            "c33ad56bd76745e4a700e3970635e875",
            "c7670260b27b4314950d9635066f0b68",
            "38596fcae4c24e8daa21cb9e8883d206",
            "7fa40939d9b34316bdc1a265250556e7",
            "587a87eb49d344efab72eb28c37cf0a8",
            "93d91c4d344b4e569b09355b3e629ca9",
            "344cd172115345658a44b5b06f9b1f73",
            "e09b20de1c054f899d9ef0892d99b375",
            "5b8c23ed54ba403f8571522ccb2c50c5",
            "5e3b04835f05429d8afee6e8381bdd48"
          ]
        },
        "id": "xQn2f3Ogxgqn",
        "outputId": "5c253308-7bcc-45fa-f7dd-684330bb8367"
      },
      "outputs": [
        {
          "name": "stderr",
          "output_type": "stream",
          "text": [
            "/usr/local/lib/python3.10/dist-packages/huggingface_hub/utils/_token.py:88: UserWarning: \n",
            "The secret `HF_TOKEN` does not exist in your Colab secrets.\n",
            "To authenticate with the Hugging Face Hub, create a token in your settings tab (https://huggingface.co/settings/tokens), set it as secret in your Google Colab and restart your session.\n",
            "You will be able to reuse this secret in all of your notebooks.\n",
            "Please note that authentication is recommended but still optional to access public models or datasets.\n",
            "  warnings.warn(\n"
          ]
        },
        {
          "data": {
            "application/vnd.jupyter.widget-view+json": {
              "model_id": "ce69ac704744482eb6d1ccb5ed372921",
              "version_major": 2,
              "version_minor": 0
            },
            "text/plain": [
              "preprocessor_config.json:   0%|          | 0.00/466 [00:00<?, ?B/s]"
            ]
          },
          "metadata": {},
          "output_type": "display_data"
        }
      ],
      "source": [
        "\n",
        "from transformers import SamProcessor\n",
        "processor = SamProcessor.from_pretrained(\"facebook/sam-vit-base\")"
      ]
    },
    {
      "cell_type": "code",
      "execution_count": 19,
      "metadata": {
        "id": "EMud11YuxvsE"
      },
      "outputs": [],
      "source": [
        "\n",
        "train_dataset = SAMDataset(dataset=dataset, processor=processor)"
      ]
    },
    {
      "cell_type": "markdown",
      "metadata": {
        "id": "W9QUvLM4Ag0-"
      },
      "source": [
        "Create a DataLoader instance for the training dataset"
      ]
    },
    {
      "cell_type": "code",
      "execution_count": 24,
      "metadata": {
        "colab": {
          "base_uri": "https://localhost:8080/"
        },
        "id": "Gw81-K_5HVCu",
        "outputId": "ddc286e2-6174-4410-98f9-2131ff6d157d"
      },
      "outputs": [
        {
          "name": "stdout",
          "output_type": "stream",
          "text": [
            "pixel_values torch.Size([3, 1024, 1024])\n",
            "ground_truth_mask torch.Size([3, 360, 640])\n",
            "input_boxes torch.Size([56, 4])\n",
            "pixel_values torch.Size([3, 1024, 1024])\n",
            "ground_truth_mask torch.Size([3, 360, 640])\n",
            "input_boxes torch.Size([7, 4])\n"
          ]
        }
      ],
      "source": [
        "from torch.utils.data import DataLoader\n",
        "from torchvision import transforms\n",
        "from PIL import Image\n",
        "\n",
        "def custom_collate_fn(batch):\n",
        "    imgs = [transforms.ToPILImage()(item['pixel_values']) for item in batch]\n",
        "    masks = [transforms.ToPILImage()(item['ground_truth_mask']) for item in batch]\n",
        "    input_boxes = [item['input_boxes'] for item in batch]\n",
        "    max_size_img = max(img.size for img in imgs)\n",
        "    max_size_mask = max(mask.size for mask in masks)\n",
        "\n",
        "    padded_imgs = []\n",
        "    padded_masks = []\n",
        "    for img, mask in zip(imgs, masks):\n",
        "        pad_width = (0, max_size_img[0] - img.size[0], 0, max_size_img[1] - img.size[1])\n",
        "        padded_img = transforms.functional.pad(img, pad_width, fill=0)\n",
        "        padded_imgs.append(padded_img)\n",
        "\n",
        "        pad_width = (0, max_size_mask[0] - mask.size[0], 0, max_size_mask[1] - mask.size[1])\n",
        "        padded_mask = transforms.functional.pad(mask, pad_width, fill=0)\n",
        "        padded_masks.append(padded_mask)\n",
        "\n",
        "    padded_imgs_tensor = torch.stack([transforms.ToTensor()(img) for img in padded_imgs])\n",
        "    padded_masks_tensor = torch.stack([transforms.ToTensor()(mask) for mask in padded_masks])\n",
        "\n",
        "    batch_dict = []\n",
        "    for i in range(len(batch)):\n",
        "        item_dict = {\n",
        "            'pixel_values': padded_imgs_tensor[i],\n",
        "            'ground_truth_mask': padded_masks_tensor[i],\n",
        "            'input_boxes': input_boxes[i]\n",
        "        }\n",
        "        batch_dict.append(item_dict)\n",
        "\n",
        "    return batch_dict\n",
        "\n",
        "train_dataloader = DataLoader(train_dataset, batch_size=2, shuffle=True, drop_last=False, collate_fn=custom_collate_fn)\n",
        "batch = next(iter(train_dataloader))\n",
        "\n",
        "for item in batch:\n",
        "    for k, v in item.items():\n",
        "        print(k, v.shape)\n"
      ]
    },
    {
      "cell_type": "code",
      "execution_count": 29,
      "metadata": {
        "id": "PQgw-F3zHbGN"
      },
      "outputs": [],
      "source": [
        "from torch.utils.data import DataLoader\n",
        "from torchvision import transforms\n",
        "from PIL import Image\n",
        "\n",
        "def custom_collate_fn(batch):\n",
        "    pixel_values_list = []\n",
        "    ground_truth_mask_list = []\n",
        "\n",
        "    for item in batch:\n",
        "        pixel_values_list.append(transforms.ToPILImage()(item['pixel_values']))\n",
        "        ground_truth_mask_list.append(transforms.ToPILImage()(item['ground_truth_mask']))\n",
        "\n",
        "    max_size_img = max(img.size for img in pixel_values_list)\n",
        "    max_size_mask = max(mask.size for mask in ground_truth_mask_list)\n",
        "\n",
        "    padded_pixel_values = []\n",
        "    padded_ground_truth_masks = []\n",
        "    for img, mask in zip(pixel_values_list, ground_truth_mask_list):\n",
        "        pad_width = (0, max_size_img[0] - img.size[0], 0, max_size_img[1] - img.size[1])\n",
        "        padded_pixel_values.append(transforms.functional.pad(img, pad_width, fill=0))\n",
        "\n",
        "        pad_width = (0, max_size_mask[0] - mask.size[0], 0, max_size_mask[1] - mask.size[1])\n",
        "        padded_ground_truth_masks.append(transforms.functional.pad(mask, pad_width, fill=0))\n",
        "\n",
        "    return {\n",
        "        \"pixel_values\": torch.stack([transforms.ToTensor()(img) for img in padded_pixel_values]),\n",
        "        \"original_sizes\": torch.tensor([img.size for img in pixel_values_list]),\n",
        "        \"reshaped_input_sizes\": torch.tensor([img.size for img in padded_pixel_values]),\n",
        "        \"input_boxes\": torch.zeros(len(batch), 1, 4), \n",
        "        \"ground_truth_mask\": torch.stack([transforms.ToTensor()(mask) for mask in padded_ground_truth_masks])\n",
        "    }\n",
        "\n",
        "train_dataloader = DataLoader(train_dataset, batch_size=2, shuffle=True, drop_last=False, collate_fn=custom_collate_fn)\n"
      ]
    },
    {
      "cell_type": "code",
      "execution_count": 30,
      "metadata": {
        "colab": {
          "base_uri": "https://localhost:8080/"
        },
        "id": "zyXzfoduK476",
        "outputId": "fe780aa0-ae7a-4b5d-e7b6-19872604aa5e"
      },
      "outputs": [
        {
          "name": "stdout",
          "output_type": "stream",
          "text": [
            "pixel_values torch.Size([2, 3, 1024, 1024])\n",
            "original_sizes torch.Size([2, 2])\n",
            "reshaped_input_sizes torch.Size([2, 2])\n",
            "input_boxes torch.Size([2, 1, 4])\n",
            "ground_truth_mask torch.Size([2, 3, 360, 640])\n"
          ]
        }
      ],
      "source": [
        "batch = next(iter(train_dataloader))\n",
        "for k,v in batch.items():\n",
        "  print(k,v.shape)"
      ]
    },
    {
      "cell_type": "code",
      "execution_count": 31,
      "metadata": {
        "colab": {
          "base_uri": "https://localhost:8080/",
          "height": 81,
          "referenced_widgets": [
            "674de5b959c04970bda4131ff7723afc",
            "61625a53d8b4437fac7b6ade36d3063c",
            "93b5f43a9c12475db6733c2ddb7989bd",
            "3b67d1e5752d457dbbd08c7a4b9ef725",
            "b5c91e049f6640ca83e6dfc9d48c6885",
            "025cfe0bd2814ca490ae3a30a61ac9be",
            "379a711acaeb4bc5ae5d206866f60a92",
            "5c7827ec9a77435785fc8ad913e40cfb",
            "4da696b7be7f4e22bb4d10caf05d6d3e",
            "0abf08b493bb4ff8bab1a931f8df57b4",
            "a670dde0d965492c93c72b34b9783f36",
            "43945346c2d84064b0d42a33bbdb119f",
            "b548a3ae2abc447b9c71cdf32bcd791f",
            "b55ffa79b58343a69ec304c72e9c0b04",
            "3b8e11d41665420a8de729b638517881",
            "cb611dbb90b34ab0b128ee8926978e45",
            "d3c33eb485c74c8c8b20996d98d9d80f",
            "2d3e3158d88b4d7da4d796b0ebcd8a38",
            "710a91849c5a413a80de5d415b5a2817",
            "17d4c0c7a28b489ba980bbdce23f89b9",
            "27da9225aac342949e2939ae503d0861",
            "9a4565a2428640888212462a4f6cbede"
          ]
        },
        "id": "tv15rKUtHnH_",
        "outputId": "fb17e4c4-4a75-46dd-a958-ae92e3951012"
      },
      "outputs": [
        {
          "data": {
            "application/vnd.jupyter.widget-view+json": {
              "model_id": "674de5b959c04970bda4131ff7723afc",
              "version_major": 2,
              "version_minor": 0
            },
            "text/plain": [
              "config.json:   0%|          | 0.00/6.57k [00:00<?, ?B/s]"
            ]
          },
          "metadata": {},
          "output_type": "display_data"
        },
        {
          "data": {
            "application/vnd.jupyter.widget-view+json": {
              "model_id": "43945346c2d84064b0d42a33bbdb119f",
              "version_major": 2,
              "version_minor": 0
            },
            "text/plain": [
              "model.safetensors:   0%|          | 0.00/375M [00:00<?, ?B/s]"
            ]
          },
          "metadata": {},
          "output_type": "display_data"
        }
      ],
      "source": [
        "\n",
        "from transformers import SamModel\n",
        "model = SamModel.from_pretrained(\"facebook/sam-vit-base\")\n",
        "\n",
        "for name, param in model.named_parameters():\n",
        "  if name.startswith(\"vision_encoder\") or name.startswith(\"prompt_encoder\"):\n",
        "    param.requires_grad_(False)"
      ]
    },
    {
      "cell_type": "code",
      "execution_count": 32,
      "metadata": {
        "id": "w-qAHp1OHn2o"
      },
      "outputs": [],
      "source": [
        "from torch.optim import Adam\n",
        "import monai\n",
        "optimizer = Adam(model.mask_decoder.parameters(), lr=1e-5, weight_decay=0)\n",
        "seg_loss = monai.losses.DiceCELoss(sigmoid=True, squared_pred=True, reduction='mean')"
      ]
    },
    {
      "cell_type": "code",
      "execution_count": 36,
      "metadata": {
        "colab": {
          "base_uri": "https://localhost:8080/"
        },
        "id": "d_RDvSSmH5vr",
        "outputId": "0675224f-7539-4ca0-f958-4c8380f55778"
      },
      "outputs": [
        {
          "name": "stderr",
          "output_type": "stream",
          "text": [
            "100%|██████████| 155/155 [02:56<00:00,  1.14s/it]\n"
          ]
        },
        {
          "name": "stdout",
          "output_type": "stream",
          "text": [
            "EPOCH: 0\n",
            "Mean loss: 17.168595469382502\n"
          ]
        },
        {
          "name": "stderr",
          "output_type": "stream",
          "text": [
            "100%|██████████| 155/155 [02:47<00:00,  1.08s/it]\n"
          ]
        },
        {
          "name": "stdout",
          "output_type": "stream",
          "text": [
            "EPOCH: 1\n",
            "Mean loss: 17.068188931095985\n"
          ]
        },
        {
          "name": "stderr",
          "output_type": "stream",
          "text": [
            "100%|██████████| 155/155 [02:46<00:00,  1.08s/it]\n"
          ]
        },
        {
          "name": "stdout",
          "output_type": "stream",
          "text": [
            "EPOCH: 2\n",
            "Mean loss: 17.048276672055643\n"
          ]
        },
        {
          "name": "stderr",
          "output_type": "stream",
          "text": [
            "100%|██████████| 155/155 [02:47<00:00,  1.08s/it]\n"
          ]
        },
        {
          "name": "stdout",
          "output_type": "stream",
          "text": [
            "EPOCH: 3\n",
            "Mean loss: 17.01434473991394\n"
          ]
        },
        {
          "name": "stderr",
          "output_type": "stream",
          "text": [
            "100%|██████████| 155/155 [02:47<00:00,  1.08s/it]\n"
          ]
        },
        {
          "name": "stdout",
          "output_type": "stream",
          "text": [
            "EPOCH: 4\n",
            "Mean loss: 16.93943942900627\n"
          ]
        },
        {
          "name": "stderr",
          "output_type": "stream",
          "text": [
            "100%|██████████| 155/155 [02:47<00:00,  1.08s/it]\n"
          ]
        },
        {
          "name": "stdout",
          "output_type": "stream",
          "text": [
            "EPOCH: 5\n",
            "Mean loss: 16.834750007813977\n"
          ]
        },
        {
          "name": "stderr",
          "output_type": "stream",
          "text": [
            "100%|██████████| 155/155 [02:47<00:00,  1.08s/it]\n"
          ]
        },
        {
          "name": "stdout",
          "output_type": "stream",
          "text": [
            "EPOCH: 6\n",
            "Mean loss: 16.864211934612644\n"
          ]
        },
        {
          "name": "stderr",
          "output_type": "stream",
          "text": [
            "100%|██████████| 155/155 [02:47<00:00,  1.08s/it]\n"
          ]
        },
        {
          "name": "stdout",
          "output_type": "stream",
          "text": [
            "EPOCH: 7\n",
            "Mean loss: 17.14863083977853\n"
          ]
        },
        {
          "name": "stderr",
          "output_type": "stream",
          "text": [
            "100%|██████████| 155/155 [02:47<00:00,  1.08s/it]\n"
          ]
        },
        {
          "name": "stdout",
          "output_type": "stream",
          "text": [
            "EPOCH: 8\n",
            "Mean loss: 16.815080305837817\n"
          ]
        },
        {
          "name": "stderr",
          "output_type": "stream",
          "text": [
            "100%|██████████| 155/155 [02:46<00:00,  1.08s/it]\n"
          ]
        },
        {
          "name": "stdout",
          "output_type": "stream",
          "text": [
            "EPOCH: 9\n",
            "Mean loss: 16.723975527671076\n"
          ]
        },
        {
          "name": "stderr",
          "output_type": "stream",
          "text": [
            "100%|██████████| 155/155 [02:46<00:00,  1.08s/it]\n"
          ]
        },
        {
          "name": "stdout",
          "output_type": "stream",
          "text": [
            "EPOCH: 10\n",
            "Mean loss: 16.689955393729672\n"
          ]
        },
        {
          "name": "stderr",
          "output_type": "stream",
          "text": [
            "100%|██████████| 155/155 [02:47<00:00,  1.08s/it]\n"
          ]
        },
        {
          "name": "stdout",
          "output_type": "stream",
          "text": [
            "EPOCH: 11\n",
            "Mean loss: 16.605089514486252\n"
          ]
        },
        {
          "name": "stderr",
          "output_type": "stream",
          "text": [
            "100%|██████████| 155/155 [02:47<00:00,  1.08s/it]\n"
          ]
        },
        {
          "name": "stdout",
          "output_type": "stream",
          "text": [
            "EPOCH: 12\n",
            "Mean loss: 16.603033474952944\n"
          ]
        },
        {
          "name": "stderr",
          "output_type": "stream",
          "text": [
            "100%|██████████| 155/155 [02:47<00:00,  1.08s/it]\n"
          ]
        },
        {
          "name": "stdout",
          "output_type": "stream",
          "text": [
            "EPOCH: 13\n",
            "Mean loss: 16.575511149437197\n"
          ]
        },
        {
          "name": "stderr",
          "output_type": "stream",
          "text": [
            "100%|██████████| 155/155 [02:47<00:00,  1.08s/it]\n"
          ]
        },
        {
          "name": "stdout",
          "output_type": "stream",
          "text": [
            "EPOCH: 14\n",
            "Mean loss: 16.589415954774427\n"
          ]
        },
        {
          "name": "stderr",
          "output_type": "stream",
          "text": [
            "100%|██████████| 155/155 [02:46<00:00,  1.08s/it]\n"
          ]
        },
        {
          "name": "stdout",
          "output_type": "stream",
          "text": [
            "EPOCH: 15\n",
            "Mean loss: 16.793843327030057\n"
          ]
        },
        {
          "name": "stderr",
          "output_type": "stream",
          "text": [
            "100%|██████████| 155/155 [02:47<00:00,  1.08s/it]\n"
          ]
        },
        {
          "name": "stdout",
          "output_type": "stream",
          "text": [
            "EPOCH: 16\n",
            "Mean loss: 16.779564739042712\n"
          ]
        },
        {
          "name": "stderr",
          "output_type": "stream",
          "text": [
            "100%|██████████| 155/155 [02:46<00:00,  1.08s/it]\n"
          ]
        },
        {
          "name": "stdout",
          "output_type": "stream",
          "text": [
            "EPOCH: 17\n",
            "Mean loss: 16.528165843409877\n"
          ]
        },
        {
          "name": "stderr",
          "output_type": "stream",
          "text": [
            "100%|██████████| 155/155 [02:47<00:00,  1.08s/it]\n"
          ]
        },
        {
          "name": "stdout",
          "output_type": "stream",
          "text": [
            "EPOCH: 18\n",
            "Mean loss: 16.50033547032264\n"
          ]
        },
        {
          "name": "stderr",
          "output_type": "stream",
          "text": [
            "100%|██████████| 155/155 [02:47<00:00,  1.08s/it]"
          ]
        },
        {
          "name": "stdout",
          "output_type": "stream",
          "text": [
            "EPOCH: 19\n",
            "Mean loss: 16.384689557936884\n"
          ]
        },
        {
          "name": "stderr",
          "output_type": "stream",
          "text": [
            "\n"
          ]
        }
      ],
      "source": [
        "from tqdm import tqdm\n",
        "from statistics import mean\n",
        "import torch\n",
        "\n",
        "num_epochs = 20\n",
        "\n",
        "device = \"cuda\" if torch.cuda.is_available() else \"cpu\"\n",
        "model.to(device)\n",
        "\n",
        "model.train()\n",
        "for epoch in range(num_epochs):\n",
        "    epoch_losses = []\n",
        "    for batch in tqdm(train_dataloader):\n",
        "      \n",
        "        outputs = model(pixel_values=batch[\"pixel_values\"].to(device),\n",
        "                        input_boxes=batch[\"input_boxes\"].to(device),\n",
        "                        multimask_output=False)\n",
        "\n",
        "        batch_loss = []\n",
        "        for i in range(len(batch[\"ground_truth_mask\"])):\n",
        "            predicted_masks = outputs.pred_masks[i].squeeze(0)\n",
        "            ground_truth_masks = batch[\"ground_truth_mask\"][i][:1].float().to(device) \n",
        "\n",
        "            ground_truth_masks_resized = torch.nn.functional.interpolate(\n",
        "                ground_truth_masks.unsqueeze(0),\n",
        "                size=predicted_masks.shape[-2:],\n",
        "                mode='bilinear',\n",
        "                align_corners=False\n",
        "            ).squeeze(0)\n",
        "\n",
        "            loss = seg_loss(predicted_masks, ground_truth_masks_resized)\n",
        "            batch_loss.append(loss)\n",
        "\n",
        "        mean_loss = torch.mean(torch.stack(batch_loss))\n",
        "\n",
        "        optimizer.zero_grad()\n",
        "        mean_loss.backward()\n",
        "\n",
        "        optimizer.step()\n",
        "        epoch_losses.append(mean_loss.item())\n",
        "\n",
        "    print(f'EPOCH: {epoch}')\n",
        "    print(f'Mean loss: {mean(epoch_losses)}')\n"
      ]
    },
    {
      "cell_type": "code",
      "execution_count": 37,
      "metadata": {
        "id": "3e6xMym1VhMR"
      },
      "outputs": [],
      "source": [
        "torch.save(model.state_dict(),\"/content/drive/MyDrive/fabric_sam/train/model/20epochs_checkpoin.pth\")"
      ]
    },
    {
      "cell_type": "markdown",
      "metadata": {
        "id": "wT2W7NIiv9bU"
      },
      "source": [
        "Inference"
      ]
    },
    {
      "cell_type": "markdown",
      "metadata": {
        "id": "1LebzxSH_s3v"
      },
      "source": [
        "### 20 EPOCHS"
      ]
    },
    {
      "cell_type": "code",
      "execution_count": null,
      "metadata": {
        "id": "TSD3x7QEwBg_"
      },
      "outputs": [],
      "source": [
        "# Load the model configuration\n",
        "model_config = SamConfig.from_pretrained(\"facebook/sam-vit-base\")\n",
        "processor = SamProcessor.from_pretrained(\"facebook/sam-vit-base\")\n",
        "\n",
        "# Create an instance of the model architecture with the loaded configuration\n",
        "fabricmodel = SamModel(config=model_config)\n",
        "#Update the model by loading the weights from saved file.\n",
        "fabricmodel.load_state_dict(torch.load(\"/content/drive/MyDrive/fabric_sam/train/model/20epochs_checkpoin.pth\"))"
      ]
    },
    {
      "cell_type": "code",
      "execution_count": null,
      "metadata": {
        "id": "eTHSxXjpwOul"
      },
      "outputs": [],
      "source": [
        "# set the device to cuda if available, otherwise use cpu\n",
        "device = \"cuda\" if torch.cuda.is_available() else \"cpu\"\n",
        "fabricmodel.to(device)"
      ]
    },
    {
      "cell_type": "code",
      "execution_count": 139,
      "metadata": {
        "colab": {
          "base_uri": "https://localhost:8080/",
          "height": 323
        },
        "id": "VwNuMCZz84bk",
        "outputId": "16cbd465-2c24-4b93-a1c9-7af1b79fc382"
      },
      "outputs": [
        {
          "name": "stdout",
          "output_type": "stream",
          "text": [
            "190\n"
          ]
        },
        {
          "data": {
            "image/png": "[encoded data removed]",
            "text/plain": [
              "<Figure size 1500x600 with 4 Axes>"
            ]
          },
          "metadata": {},
          "output_type": "display_data"
        }
      ],
      "source": [
        "import random\n",
        "import matplotlib.pyplot as plt\n",
        "\n",
        "# Let's take a random training example\n",
        "idx = random.randint(0, images.shape[0] - 1)\n",
        "print (idx)\n",
        "\n",
        "# Load the image\n",
        "test_image = dataset[idx][\"image\"]\n",
        "true_mask = dataset[idx][\"masks\"]  # Assuming the key for the true mask is \"mask\"\n",
        "\n",
        "# Get the box prompt based on the ground truth segmentation map\n",
        "ground_truth_mask = np.array(dataset[idx][\"masks\"])\n",
        "prompt = promptbox(ground_truth_mask)\n",
        "\n",
        "# Prepare the image + box prompt for the model\n",
        "inputs = processor(test_image, input_boxes=[[prompt]], return_tensors=\"pt\")\n",
        "\n",
        "# Move the input tensor to the GPU if it's not already there\n",
        "inputs = {k: v.to(device) for k, v in inputs.items()}\n",
        "\n",
        "fabricmodel.eval()\n",
        "\n",
        "# Forward pass\n",
        "with torch.no_grad():\n",
        "    outputs = fabricmodel(**inputs, multimask_output=False)\n",
        "\n",
        "# Apply sigmoid\n",
        "prob = torch.sigmoid(outputs.pred_masks.squeeze(1))\n",
        "# Convert soft mask to hard mask\n",
        "prob = prob.cpu().numpy().squeeze()\n",
        "seg = (prob > 0.5).astype(np.uint8)\n",
        "\n",
        "# Ensure seg is a 2D grayscale image\n",
        "if seg.ndim == 3 and seg.shape[0] == 1:\n",
        "    seg = np.squeeze(seg, axis=0)  # Squeeze the first dimension\n",
        "\n",
        "# Select one of the probability maps\n",
        "prob_selected = prob[0]  # Selecting the first probability map\n",
        "\n",
        "fig, axes = plt.subplots(1, 4, figsize=(15, 6))\n",
        "\n",
        "# Plot the first image on the left\n",
        "axes[0].imshow(np.array(test_image), cmap='gray')  # Assuming the first image is grayscale\n",
        "axes[0].set_title(\"Image\")\n",
        "\n",
        "# Plot the second image on the right\n",
        "axes[3].imshow(seg[0], cmap='gray')  # Assuming the second image is grayscale\n",
        "axes[3].set_title(\" Final Predicted Mask\")\n",
        "\n",
        "# Plot the second image on the right\n",
        "axes[2].imshow(prob_selected, cmap='gray')  # Assuming the second image is grayscale\n",
        "axes[2].set_title(\"Probability Map\")\n",
        "\n",
        "# Plot the second image on the right\n",
        "axes[1].imshow(true_mask, cmap='jet')  # Assuming the second image is grayscale\n",
        "axes[1].set_title(\"Binary mask of image\")\n",
        "# Hide axis ticks and labels\n",
        "for ax in axes:\n",
        "    ax.set_xticks([])\n",
        "    ax.set_yticks([])\n",
        "    ax.set_xticklabels([])\n",
        "    ax.set_yticklabels([])\n",
        "\n",
        "# Display the images side by side\n",
        "plt.show()\n"
      ]
    },
    {
      "cell_type": "markdown",
      "metadata": {
        "id": "8DloJO5v_7JA"
      },
      "source": [
        "### 5 EPOCHS"
      ]
    },
    {
      "cell_type": "code",
      "execution_count": 141,
      "metadata": {
        "colab": {
          "base_uri": "https://localhost:8080/"
        },
        "id": "CGXYoUMO_9Wo",
        "outputId": "ef4867ef-1f9e-4964-b8bc-618bd73f7829"
      },
      "outputs": [
        {
          "data": {
            "text/plain": [
              "<All keys matched successfully>"
            ]
          },
          "execution_count": 141,
          "metadata": {},
          "output_type": "execute_result"
        }
      ],
      "source": [
        "# Load the model configuration\n",
        "model_config = SamConfig.from_pretrained(\"facebook/sam-vit-base\")\n",
        "processor = SamProcessor.from_pretrained(\"facebook/sam-vit-base\")\n",
        "\n",
        "# Create an instance of the model architecture with the loaded configuration\n",
        "fabricmodel = SamModel(config=model_config)\n",
        "#Update the model by loading the weights from saved file.\n",
        "fabricmodel.load_state_dict(torch.load(\"/content/drive/MyDrive/fabric_sam/train/model/5epochs_checkpoin.pth\"))"
      ]
    },
    {
      "cell_type": "code",
      "execution_count": null,
      "metadata": {
        "id": "GV0gQC2hADcj"
      },
      "outputs": [],
      "source": [
        "# set the device to cuda if available, otherwise use cpu\n",
        "device = \"cuda\" if torch.cuda.is_available() else \"cpu\"\n",
        "fabricmodel.to(device)"
      ]
    },
    {
      "cell_type": "code",
      "execution_count": 150,
      "metadata": {
        "colab": {
          "base_uri": "https://localhost:8080/",
          "height": 323
        },
        "id": "ExvFZ1rYAGfG",
        "outputId": "a0d6ddbf-eb5d-422f-9189-c7562e96ae5c"
      },
      "outputs": [
        {
          "name": "stdout",
          "output_type": "stream",
          "text": [
            "72\n"
          ]
        },
        {
          "data": {
            "image/png": "[encoded data removed]",
            "text/plain": [
              "<Figure size 1500x600 with 4 Axes>"
            ]
          },
          "metadata": {},
          "output_type": "display_data"
        }
      ],
      "source": [
        "import random\n",
        "import matplotlib.pyplot as plt\n",
        "\n",
        "# Let's take a random training example\n",
        "idx = random.randint(0, images.shape[0] - 1)\n",
        "print (idx)\n",
        "\n",
        "# Load the image\n",
        "test_image = dataset[idx][\"image\"]\n",
        "true_mask = dataset[idx][\"masks\"]  # Assuming the key for the true mask is \"mask\"\n",
        "\n",
        "# Get the box prompt based on the ground truth segmentation map\n",
        "ground_truth_mask = np.array(dataset[idx][\"masks\"])\n",
        "prompt = promptbox(ground_truth_mask)\n",
        "\n",
        "# Prepare the image + box prompt for the model\n",
        "inputs = processor(test_image, input_boxes=[[prompt]], return_tensors=\"pt\")\n",
        "\n",
        "# Move the input tensor to the GPU if it's not already there\n",
        "inputs = {k: v.to(device) for k, v in inputs.items()}\n",
        "\n",
        "fabricmodel.eval()\n",
        "\n",
        "# Forward pass\n",
        "with torch.no_grad():\n",
        "    outputs = fabricmodel(**inputs, multimask_output=False)\n",
        "\n",
        "# Apply sigmoid\n",
        "prob = torch.sigmoid(outputs.pred_masks.squeeze(1))\n",
        "# Convert soft mask to hard mask\n",
        "prob = prob.cpu().numpy().squeeze()\n",
        "seg = (prob > 0.5).astype(np.uint8)\n",
        "\n",
        "# Ensure seg is a 2D grayscale image\n",
        "if seg.ndim == 3 and seg.shape[0] == 1:\n",
        "    seg = np.squeeze(seg, axis=0)  # Squeeze the first dimension\n",
        "\n",
        "# Select one of the probability maps\n",
        "prob_selected = prob[0]  # Selecting the first probability map\n",
        "\n",
        "fig, axes = plt.subplots(1, 4, figsize=(15, 6))\n",
        "\n",
        "# Plot the first image on the left\n",
        "axes[0].imshow(np.array(test_image), cmap='gray')  # Assuming the first image is grayscale\n",
        "axes[0].set_title(\"Image\")\n",
        "\n",
        "# Plot the second image on the right\n",
        "axes[3].imshow(seg[0], cmap='gray')  # Assuming the second image is grayscale\n",
        "axes[3].set_title(\" Final Predicted Mask\")\n",
        "\n",
        "# Plot the second image on the right\n",
        "axes[2].imshow(prob_selected, cmap='gray')  # Assuming the second image is grayscale\n",
        "axes[2].set_title(\"Probability Map\")\n",
        "\n",
        "# Plot the second image on the right\n",
        "axes[1].imshow(true_mask, cmap='jet')  # Assuming the second image is grayscale\n",
        "axes[1].set_title(\"Binary mask of image\")\n",
        "# Hide axis ticks and labels\n",
        "for ax in axes:\n",
        "    ax.set_xticks([])\n",
        "    ax.set_yticks([])\n",
        "    ax.set_xticklabels([])\n",
        "    ax.set_yticklabels([])\n",
        "\n",
        "# Display the images side by side\n",
        "plt.show()\n"
      ]
    }
  ],
  "metadata": {
    "accelerator": "GPU",
    "colab": {
      "gpuType": "T4",
      "provenance": []
    },
    "kernelspec": {
      "display_name": "Python 3",
      "name": "python3"
    },
    "language_info": {
      "name": "python"
    },
    "widgets": {
      "application/vnd.jupyter.widget-state+json": {
        "025cfe0bd2814ca490ae3a30a61ac9be": {
          "model_module": "@jupyter-widgets/base",
          "model_module_version": "1.2.0",
          "model_name": "LayoutModel",
          "state": {
            "_model_module": "@jupyter-widgets/base",
            "_model_module_version": "1.2.0",
            "_model_name": "LayoutModel",
            "_view_count": null,
            "_view_module": "@jupyter-widgets/base",
            "_view_module_version": "1.2.0",
            "_view_name": "LayoutView",
            "align_content": null,
            "align_items": null,
            "align_self": null,
            "border": null,
            "bottom": null,
            "display": null,
            "flex": null,
            "flex_flow": null,
            "grid_area": null,
            "grid_auto_columns": null,
            "grid_auto_flow": null,
            "grid_auto_rows": null,
            "grid_column": null,
            "grid_gap": null,
            "grid_row": null,
            "grid_template_areas": null,
            "grid_template_columns": null,
            "grid_template_rows": null,
            "height": null,
            "justify_content": null,
            "justify_items": null,
            "left": null,
            "margin": null,
            "max_height": null,
            "max_width": null,
            "min_height": null,
            "min_width": null,
            "object_fit": null,
            "object_position": null,
            "order": null,
            "overflow": null,
            "overflow_x": null,
            "overflow_y": null,
            "padding": null,
            "right": null,
            "top": null,
            "visibility": null,
            "width": null
          }
        },
        "0abf08b493bb4ff8bab1a931f8df57b4": {
          "model_module": "@jupyter-widgets/base",
          "model_module_version": "1.2.0",
          "model_name": "LayoutModel",
          "state": {
            "_model_module": "@jupyter-widgets/base",
            "_model_module_version": "1.2.0",
            "_model_name": "LayoutModel",
            "_view_count": null,
            "_view_module": "@jupyter-widgets/base",
            "_view_module_version": "1.2.0",
            "_view_name": "LayoutView",
            "align_content": null,
            "align_items": null,
            "align_self": null,
            "border": null,
            "bottom": null,
            "display": null,
            "flex": null,
            "flex_flow": null,
            "grid_area": null,
            "grid_auto_columns": null,
            "grid_auto_flow": null,
            "grid_auto_rows": null,
            "grid_column": null,
            "grid_gap": null,
            "grid_row": null,
            "grid_template_areas": null,
            "grid_template_columns": null,
            "grid_template_rows": null,
            "height": null,
            "justify_content": null,
            "justify_items": null,
            "left": null,
            "margin": null,
            "max_height": null,
            "max_width": null,
            "min_height": null,
            "min_width": null,
            "object_fit": null,
            "object_position": null,
            "order": null,
            "overflow": null,
            "overflow_x": null,
            "overflow_y": null,
            "padding": null,
            "right": null,
            "top": null,
            "visibility": null,
            "width": null
          }
        },
        "17d4c0c7a28b489ba980bbdce23f89b9": {
          "model_module": "@jupyter-widgets/controls",
          "model_module_version": "1.5.0",
          "model_name": "ProgressStyleModel",
          "state": {
            "_model_module": "@jupyter-widgets/controls",
            "_model_module_version": "1.5.0",
            "_model_name": "ProgressStyleModel",
            "_view_count": null,
            "_view_module": "@jupyter-widgets/base",
            "_view_module_version": "1.2.0",
            "_view_name": "StyleView",
            "bar_color": null,
            "description_width": ""
          }
        },
        "27da9225aac342949e2939ae503d0861": {
          "model_module": "@jupyter-widgets/base",
          "model_module_version": "1.2.0",
          "model_name": "LayoutModel",
          "state": {
            "_model_module": "@jupyter-widgets/base",
            "_model_module_version": "1.2.0",
            "_model_name": "LayoutModel",
            "_view_count": null,
            "_view_module": "@jupyter-widgets/base",
            "_view_module_version": "1.2.0",
            "_view_name": "LayoutView",
            "align_content": null,
            "align_items": null,
            "align_self": null,
            "border": null,
            "bottom": null,
            "display": null,
            "flex": null,
            "flex_flow": null,
            "grid_area": null,
            "grid_auto_columns": null,
            "grid_auto_flow": null,
            "grid_auto_rows": null,
            "grid_column": null,
            "grid_gap": null,
            "grid_row": null,
            "grid_template_areas": null,
            "grid_template_columns": null,
            "grid_template_rows": null,
            "height": null,
            "justify_content": null,
            "justify_items": null,
            "left": null,
            "margin": null,
            "max_height": null,
            "max_width": null,
            "min_height": null,
            "min_width": null,
            "object_fit": null,
            "object_position": null,
            "order": null,
            "overflow": null,
            "overflow_x": null,
            "overflow_y": null,
            "padding": null,
            "right": null,
            "top": null,
            "visibility": null,
            "width": null
          }
        },
        "2d3e3158d88b4d7da4d796b0ebcd8a38": {
          "model_module": "@jupyter-widgets/controls",
          "model_module_version": "1.5.0",
          "model_name": "DescriptionStyleModel",
          "state": {
            "_model_module": "@jupyter-widgets/controls",
            "_model_module_version": "1.5.0",
            "_model_name": "DescriptionStyleModel",
            "_view_count": null,
            "_view_module": "@jupyter-widgets/base",
            "_view_module_version": "1.2.0",
            "_view_name": "StyleView",
            "description_width": ""
          }
        },
        "344cd172115345658a44b5b06f9b1f73": {
          "model_module": "@jupyter-widgets/base",
          "model_module_version": "1.2.0",
          "model_name": "LayoutModel",
          "state": {
            "_model_module": "@jupyter-widgets/base",
            "_model_module_version": "1.2.0",
            "_model_name": "LayoutModel",
            "_view_count": null,
            "_view_module": "@jupyter-widgets/base",
            "_view_module_version": "1.2.0",
            "_view_name": "LayoutView",
            "align_content": null,
            "align_items": null,
            "align_self": null,
            "border": null,
            "bottom": null,
            "display": null,
            "flex": null,
            "flex_flow": null,
            "grid_area": null,
            "grid_auto_columns": null,
            "grid_auto_flow": null,
            "grid_auto_rows": null,
            "grid_column": null,
            "grid_gap": null,
            "grid_row": null,
            "grid_template_areas": null,
            "grid_template_columns": null,
            "grid_template_rows": null,
            "height": null,
            "justify_content": null,
            "justify_items": null,
            "left": null,
            "margin": null,
            "max_height": null,
            "max_width": null,
            "min_height": null,
            "min_width": null,
            "object_fit": null,
            "object_position": null,
            "order": null,
            "overflow": null,
            "overflow_x": null,
            "overflow_y": null,
            "padding": null,
            "right": null,
            "top": null,
            "visibility": null,
            "width": null
          }
        },
        "379a711acaeb4bc5ae5d206866f60a92": {
          "model_module": "@jupyter-widgets/controls",
          "model_module_version": "1.5.0",
          "model_name": "DescriptionStyleModel",
          "state": {
            "_model_module": "@jupyter-widgets/controls",
            "_model_module_version": "1.5.0",
            "_model_name": "DescriptionStyleModel",
            "_view_count": null,
            "_view_module": "@jupyter-widgets/base",
            "_view_module_version": "1.2.0",
            "_view_name": "StyleView",
            "description_width": ""
          }
        },
        "38596fcae4c24e8daa21cb9e8883d206": {
          "model_module": "@jupyter-widgets/controls",
          "model_module_version": "1.5.0",
          "model_name": "HTMLModel",
          "state": {
            "_dom_classes": [],
            "_model_module": "@jupyter-widgets/controls",
            "_model_module_version": "1.5.0",
            "_model_name": "HTMLModel",
            "_view_count": null,
            "_view_module": "@jupyter-widgets/controls",
            "_view_module_version": "1.5.0",
            "_view_name": "HTMLView",
            "description": "",
            "description_tooltip": null,
            "layout": "IPY_MODEL_5b8c23ed54ba403f8571522ccb2c50c5",
            "placeholder": "​",
            "style": "IPY_MODEL_5e3b04835f05429d8afee6e8381bdd48",
            "value": " 466/466 [00:00&lt;00:00, 31.7kB/s]"
          }
        },
        "3b67d1e5752d457dbbd08c7a4b9ef725": {
          "model_module": "@jupyter-widgets/controls",
          "model_module_version": "1.5.0",
          "model_name": "HTMLModel",
          "state": {
            "_dom_classes": [],
            "_model_module": "@jupyter-widgets/controls",
            "_model_module_version": "1.5.0",
            "_model_name": "HTMLModel",
            "_view_count": null,
            "_view_module": "@jupyter-widgets/controls",
            "_view_module_version": "1.5.0",
            "_view_name": "HTMLView",
            "description": "",
            "description_tooltip": null,
            "layout": "IPY_MODEL_0abf08b493bb4ff8bab1a931f8df57b4",
            "placeholder": "​",
            "style": "IPY_MODEL_a670dde0d965492c93c72b34b9783f36",
            "value": " 6.57k/6.57k [00:00&lt;00:00, 415kB/s]"
          }
        },
        "3b8e11d41665420a8de729b638517881": {
          "model_module": "@jupyter-widgets/controls",
          "model_module_version": "1.5.0",
          "model_name": "HTMLModel",
          "state": {
            "_dom_classes": [],
            "_model_module": "@jupyter-widgets/controls",
            "_model_module_version": "1.5.0",
            "_model_name": "HTMLModel",
            "_view_count": null,
            "_view_module": "@jupyter-widgets/controls",
            "_view_module_version": "1.5.0",
            "_view_name": "HTMLView",
            "description": "",
            "description_tooltip": null,
            "layout": "IPY_MODEL_27da9225aac342949e2939ae503d0861",
            "placeholder": "​",
            "style": "IPY_MODEL_9a4565a2428640888212462a4f6cbede",
            "value": " 375M/375M [00:05&lt;00:00, 54.3MB/s]"
          }
        },
        "43945346c2d84064b0d42a33bbdb119f": {
          "model_module": "@jupyter-widgets/controls",
          "model_module_version": "1.5.0",
          "model_name": "HBoxModel",
          "state": {
            "_dom_classes": [],
            "_model_module": "@jupyter-widgets/controls",
            "_model_module_version": "1.5.0",
            "_model_name": "HBoxModel",
            "_view_count": null,
            "_view_module": "@jupyter-widgets/controls",
            "_view_module_version": "1.5.0",
            "_view_name": "HBoxView",
            "box_style": "",
            "children": [
              "IPY_MODEL_b548a3ae2abc447b9c71cdf32bcd791f",
              "IPY_MODEL_b55ffa79b58343a69ec304c72e9c0b04",
              "IPY_MODEL_3b8e11d41665420a8de729b638517881"
            ],
            "layout": "IPY_MODEL_cb611dbb90b34ab0b128ee8926978e45"
          }
        },
        "4da696b7be7f4e22bb4d10caf05d6d3e": {
          "model_module": "@jupyter-widgets/controls",
          "model_module_version": "1.5.0",
          "model_name": "ProgressStyleModel",
          "state": {
            "_model_module": "@jupyter-widgets/controls",
            "_model_module_version": "1.5.0",
            "_model_name": "ProgressStyleModel",
            "_view_count": null,
            "_view_module": "@jupyter-widgets/base",
            "_view_module_version": "1.2.0",
            "_view_name": "StyleView",
            "bar_color": null,
            "description_width": ""
          }
        },
        "587a87eb49d344efab72eb28c37cf0a8": {
          "model_module": "@jupyter-widgets/base",
          "model_module_version": "1.2.0",
          "model_name": "LayoutModel",
          "state": {
            "_model_module": "@jupyter-widgets/base",
            "_model_module_version": "1.2.0",
            "_model_name": "LayoutModel",
            "_view_count": null,
            "_view_module": "@jupyter-widgets/base",
            "_view_module_version": "1.2.0",
            "_view_name": "LayoutView",
            "align_content": null,
            "align_items": null,
            "align_self": null,
            "border": null,
            "bottom": null,
            "display": null,
            "flex": null,
            "flex_flow": null,
            "grid_area": null,
            "grid_auto_columns": null,
            "grid_auto_flow": null,
            "grid_auto_rows": null,
            "grid_column": null,
            "grid_gap": null,
            "grid_row": null,
            "grid_template_areas": null,
            "grid_template_columns": null,
            "grid_template_rows": null,
            "height": null,
            "justify_content": null,
            "justify_items": null,
            "left": null,
            "margin": null,
            "max_height": null,
            "max_width": null,
            "min_height": null,
            "min_width": null,
            "object_fit": null,
            "object_position": null,
            "order": null,
            "overflow": null,
            "overflow_x": null,
            "overflow_y": null,
            "padding": null,
            "right": null,
            "top": null,
            "visibility": null,
            "width": null
          }
        },
        "5b8c23ed54ba403f8571522ccb2c50c5": {
          "model_module": "@jupyter-widgets/base",
          "model_module_version": "1.2.0",
          "model_name": "LayoutModel",
          "state": {
            "_model_module": "@jupyter-widgets/base",
            "_model_module_version": "1.2.0",
            "_model_name": "LayoutModel",
            "_view_count": null,
            "_view_module": "@jupyter-widgets/base",
            "_view_module_version": "1.2.0",
            "_view_name": "LayoutView",
            "align_content": null,
            "align_items": null,
            "align_self": null,
            "border": null,
            "bottom": null,
            "display": null,
            "flex": null,
            "flex_flow": null,
            "grid_area": null,
            "grid_auto_columns": null,
            "grid_auto_flow": null,
            "grid_auto_rows": null,
            "grid_column": null,
            "grid_gap": null,
            "grid_row": null,
            "grid_template_areas": null,
            "grid_template_columns": null,
            "grid_template_rows": null,
            "height": null,
            "justify_content": null,
            "justify_items": null,
            "left": null,
            "margin": null,
            "max_height": null,
            "max_width": null,
            "min_height": null,
            "min_width": null,
            "object_fit": null,
            "object_position": null,
            "order": null,
            "overflow": null,
            "overflow_x": null,
            "overflow_y": null,
            "padding": null,
            "right": null,
            "top": null,
            "visibility": null,
            "width": null
          }
        },
        "5c7827ec9a77435785fc8ad913e40cfb": {
          "model_module": "@jupyter-widgets/base",
          "model_module_version": "1.2.0",
          "model_name": "LayoutModel",
          "state": {
            "_model_module": "@jupyter-widgets/base",
            "_model_module_version": "1.2.0",
            "_model_name": "LayoutModel",
            "_view_count": null,
            "_view_module": "@jupyter-widgets/base",
            "_view_module_version": "1.2.0",
            "_view_name": "LayoutView",
            "align_content": null,
            "align_items": null,
            "align_self": null,
            "border": null,
            "bottom": null,
            "display": null,
            "flex": null,
            "flex_flow": null,
            "grid_area": null,
            "grid_auto_columns": null,
            "grid_auto_flow": null,
            "grid_auto_rows": null,
            "grid_column": null,
            "grid_gap": null,
            "grid_row": null,
            "grid_template_areas": null,
            "grid_template_columns": null,
            "grid_template_rows": null,
            "height": null,
            "justify_content": null,
            "justify_items": null,
            "left": null,
            "margin": null,
            "max_height": null,
            "max_width": null,
            "min_height": null,
            "min_width": null,
            "object_fit": null,
            "object_position": null,
            "order": null,
            "overflow": null,
            "overflow_x": null,
            "overflow_y": null,
            "padding": null,
            "right": null,
            "top": null,
            "visibility": null,
            "width": null
          }
        },
        "5e3b04835f05429d8afee6e8381bdd48": {
          "model_module": "@jupyter-widgets/controls",
          "model_module_version": "1.5.0",
          "model_name": "DescriptionStyleModel",
          "state": {
            "_model_module": "@jupyter-widgets/controls",
            "_model_module_version": "1.5.0",
            "_model_name": "DescriptionStyleModel",
            "_view_count": null,
            "_view_module": "@jupyter-widgets/base",
            "_view_module_version": "1.2.0",
            "_view_name": "StyleView",
            "description_width": ""
          }
        },
        "61625a53d8b4437fac7b6ade36d3063c": {
          "model_module": "@jupyter-widgets/controls",
          "model_module_version": "1.5.0",
          "model_name": "HTMLModel",
          "state": {
            "_dom_classes": [],
            "_model_module": "@jupyter-widgets/controls",
            "_model_module_version": "1.5.0",
            "_model_name": "HTMLModel",
            "_view_count": null,
            "_view_module": "@jupyter-widgets/controls",
            "_view_module_version": "1.5.0",
            "_view_name": "HTMLView",
            "description": "",
            "description_tooltip": null,
            "layout": "IPY_MODEL_025cfe0bd2814ca490ae3a30a61ac9be",
            "placeholder": "​",
            "style": "IPY_MODEL_379a711acaeb4bc5ae5d206866f60a92",
            "value": "config.json: 100%"
          }
        },
        "674de5b959c04970bda4131ff7723afc": {
          "model_module": "@jupyter-widgets/controls",
          "model_module_version": "1.5.0",
          "model_name": "HBoxModel",
          "state": {
            "_dom_classes": [],
            "_model_module": "@jupyter-widgets/controls",
            "_model_module_version": "1.5.0",
            "_model_name": "HBoxModel",
            "_view_count": null,
            "_view_module": "@jupyter-widgets/controls",
            "_view_module_version": "1.5.0",
            "_view_name": "HBoxView",
            "box_style": "",
            "children": [
              "IPY_MODEL_61625a53d8b4437fac7b6ade36d3063c",
              "IPY_MODEL_93b5f43a9c12475db6733c2ddb7989bd",
              "IPY_MODEL_3b67d1e5752d457dbbd08c7a4b9ef725"
            ],
            "layout": "IPY_MODEL_b5c91e049f6640ca83e6dfc9d48c6885"
          }
        },
        "710a91849c5a413a80de5d415b5a2817": {
          "model_module": "@jupyter-widgets/base",
          "model_module_version": "1.2.0",
          "model_name": "LayoutModel",
          "state": {
            "_model_module": "@jupyter-widgets/base",
            "_model_module_version": "1.2.0",
            "_model_name": "LayoutModel",
            "_view_count": null,
            "_view_module": "@jupyter-widgets/base",
            "_view_module_version": "1.2.0",
            "_view_name": "LayoutView",
            "align_content": null,
            "align_items": null,
            "align_self": null,
            "border": null,
            "bottom": null,
            "display": null,
            "flex": null,
            "flex_flow": null,
            "grid_area": null,
            "grid_auto_columns": null,
            "grid_auto_flow": null,
            "grid_auto_rows": null,
            "grid_column": null,
            "grid_gap": null,
            "grid_row": null,
            "grid_template_areas": null,
            "grid_template_columns": null,
            "grid_template_rows": null,
            "height": null,
            "justify_content": null,
            "justify_items": null,
            "left": null,
            "margin": null,
            "max_height": null,
            "max_width": null,
            "min_height": null,
            "min_width": null,
            "object_fit": null,
            "object_position": null,
            "order": null,
            "overflow": null,
            "overflow_x": null,
            "overflow_y": null,
            "padding": null,
            "right": null,
            "top": null,
            "visibility": null,
            "width": null
          }
        },
        "7fa40939d9b34316bdc1a265250556e7": {
          "model_module": "@jupyter-widgets/base",
          "model_module_version": "1.2.0",
          "model_name": "LayoutModel",
          "state": {
            "_model_module": "@jupyter-widgets/base",
            "_model_module_version": "1.2.0",
            "_model_name": "LayoutModel",
            "_view_count": null,
            "_view_module": "@jupyter-widgets/base",
            "_view_module_version": "1.2.0",
            "_view_name": "LayoutView",
            "align_content": null,
            "align_items": null,
            "align_self": null,
            "border": null,
            "bottom": null,
            "display": null,
            "flex": null,
            "flex_flow": null,
            "grid_area": null,
            "grid_auto_columns": null,
            "grid_auto_flow": null,
            "grid_auto_rows": null,
            "grid_column": null,
            "grid_gap": null,
            "grid_row": null,
            "grid_template_areas": null,
            "grid_template_columns": null,
            "grid_template_rows": null,
            "height": null,
            "justify_content": null,
            "justify_items": null,
            "left": null,
            "margin": null,
            "max_height": null,
            "max_width": null,
            "min_height": null,
            "min_width": null,
            "object_fit": null,
            "object_position": null,
            "order": null,
            "overflow": null,
            "overflow_x": null,
            "overflow_y": null,
            "padding": null,
            "right": null,
            "top": null,
            "visibility": null,
            "width": null
          }
        },
        "93b5f43a9c12475db6733c2ddb7989bd": {
          "model_module": "@jupyter-widgets/controls",
          "model_module_version": "1.5.0",
          "model_name": "FloatProgressModel",
          "state": {
            "_dom_classes": [],
            "_model_module": "@jupyter-widgets/controls",
            "_model_module_version": "1.5.0",
            "_model_name": "FloatProgressModel",
            "_view_count": null,
            "_view_module": "@jupyter-widgets/controls",
            "_view_module_version": "1.5.0",
            "_view_name": "ProgressView",
            "bar_style": "success",
            "description": "",
            "description_tooltip": null,
            "layout": "IPY_MODEL_5c7827ec9a77435785fc8ad913e40cfb",
            "max": 6566,
            "min": 0,
            "orientation": "horizontal",
            "style": "IPY_MODEL_4da696b7be7f4e22bb4d10caf05d6d3e",
            "value": 6566
          }
        },
        "93d91c4d344b4e569b09355b3e629ca9": {
          "model_module": "@jupyter-widgets/controls",
          "model_module_version": "1.5.0",
          "model_name": "DescriptionStyleModel",
          "state": {
            "_model_module": "@jupyter-widgets/controls",
            "_model_module_version": "1.5.0",
            "_model_name": "DescriptionStyleModel",
            "_view_count": null,
            "_view_module": "@jupyter-widgets/base",
            "_view_module_version": "1.2.0",
            "_view_name": "StyleView",
            "description_width": ""
          }
        },
        "9a4565a2428640888212462a4f6cbede": {
          "model_module": "@jupyter-widgets/controls",
          "model_module_version": "1.5.0",
          "model_name": "DescriptionStyleModel",
          "state": {
            "_model_module": "@jupyter-widgets/controls",
            "_model_module_version": "1.5.0",
            "_model_name": "DescriptionStyleModel",
            "_view_count": null,
            "_view_module": "@jupyter-widgets/base",
            "_view_module_version": "1.2.0",
            "_view_name": "StyleView",
            "description_width": ""
          }
        },
        "a670dde0d965492c93c72b34b9783f36": {
          "model_module": "@jupyter-widgets/controls",
          "model_module_version": "1.5.0",
          "model_name": "DescriptionStyleModel",
          "state": {
            "_model_module": "@jupyter-widgets/controls",
            "_model_module_version": "1.5.0",
            "_model_name": "DescriptionStyleModel",
            "_view_count": null,
            "_view_module": "@jupyter-widgets/base",
            "_view_module_version": "1.2.0",
            "_view_name": "StyleView",
            "description_width": ""
          }
        },
        "b548a3ae2abc447b9c71cdf32bcd791f": {
          "model_module": "@jupyter-widgets/controls",
          "model_module_version": "1.5.0",
          "model_name": "HTMLModel",
          "state": {
            "_dom_classes": [],
            "_model_module": "@jupyter-widgets/controls",
            "_model_module_version": "1.5.0",
            "_model_name": "HTMLModel",
            "_view_count": null,
            "_view_module": "@jupyter-widgets/controls",
            "_view_module_version": "1.5.0",
            "_view_name": "HTMLView",
            "description": "",
            "description_tooltip": null,
            "layout": "IPY_MODEL_d3c33eb485c74c8c8b20996d98d9d80f",
            "placeholder": "​",
            "style": "IPY_MODEL_2d3e3158d88b4d7da4d796b0ebcd8a38",
            "value": "model.safetensors: 100%"
          }
        },
        "b55ffa79b58343a69ec304c72e9c0b04": {
          "model_module": "@jupyter-widgets/controls",
          "model_module_version": "1.5.0",
          "model_name": "FloatProgressModel",
          "state": {
            "_dom_classes": [],
            "_model_module": "@jupyter-widgets/controls",
            "_model_module_version": "1.5.0",
            "_model_name": "FloatProgressModel",
            "_view_count": null,
            "_view_module": "@jupyter-widgets/controls",
            "_view_module_version": "1.5.0",
            "_view_name": "ProgressView",
            "bar_style": "success",
            "description": "",
            "description_tooltip": null,
            "layout": "IPY_MODEL_710a91849c5a413a80de5d415b5a2817",
            "max": 374979480,
            "min": 0,
            "orientation": "horizontal",
            "style": "IPY_MODEL_17d4c0c7a28b489ba980bbdce23f89b9",
            "value": 374979480
          }
        },
        "b5c91e049f6640ca83e6dfc9d48c6885": {
          "model_module": "@jupyter-widgets/base",
          "model_module_version": "1.2.0",
          "model_name": "LayoutModel",
          "state": {
            "_model_module": "@jupyter-widgets/base",
            "_model_module_version": "1.2.0",
            "_model_name": "LayoutModel",
            "_view_count": null,
            "_view_module": "@jupyter-widgets/base",
            "_view_module_version": "1.2.0",
            "_view_name": "LayoutView",
            "align_content": null,
            "align_items": null,
            "align_self": null,
            "border": null,
            "bottom": null,
            "display": null,
            "flex": null,
            "flex_flow": null,
            "grid_area": null,
            "grid_auto_columns": null,
            "grid_auto_flow": null,
            "grid_auto_rows": null,
            "grid_column": null,
            "grid_gap": null,
            "grid_row": null,
            "grid_template_areas": null,
            "grid_template_columns": null,
            "grid_template_rows": null,
            "height": null,
            "justify_content": null,
            "justify_items": null,
            "left": null,
            "margin": null,
            "max_height": null,
            "max_width": null,
            "min_height": null,
            "min_width": null,
            "object_fit": null,
            "object_position": null,
            "order": null,
            "overflow": null,
            "overflow_x": null,
            "overflow_y": null,
            "padding": null,
            "right": null,
            "top": null,
            "visibility": null,
            "width": null
          }
        },
        "c33ad56bd76745e4a700e3970635e875": {
          "model_module": "@jupyter-widgets/controls",
          "model_module_version": "1.5.0",
          "model_name": "HTMLModel",
          "state": {
            "_dom_classes": [],
            "_model_module": "@jupyter-widgets/controls",
            "_model_module_version": "1.5.0",
            "_model_name": "HTMLModel",
            "_view_count": null,
            "_view_module": "@jupyter-widgets/controls",
            "_view_module_version": "1.5.0",
            "_view_name": "HTMLView",
            "description": "",
            "description_tooltip": null,
            "layout": "IPY_MODEL_587a87eb49d344efab72eb28c37cf0a8",
            "placeholder": "​",
            "style": "IPY_MODEL_93d91c4d344b4e569b09355b3e629ca9",
            "value": "preprocessor_config.json: 100%"
          }
        },
        "c7670260b27b4314950d9635066f0b68": {
          "model_module": "@jupyter-widgets/controls",
          "model_module_version": "1.5.0",
          "model_name": "FloatProgressModel",
          "state": {
            "_dom_classes": [],
            "_model_module": "@jupyter-widgets/controls",
            "_model_module_version": "1.5.0",
            "_model_name": "FloatProgressModel",
            "_view_count": null,
            "_view_module": "@jupyter-widgets/controls",
            "_view_module_version": "1.5.0",
            "_view_name": "ProgressView",
            "bar_style": "success",
            "description": "",
            "description_tooltip": null,
            "layout": "IPY_MODEL_344cd172115345658a44b5b06f9b1f73",
            "max": 466,
            "min": 0,
            "orientation": "horizontal",
            "style": "IPY_MODEL_e09b20de1c054f899d9ef0892d99b375",
            "value": 466
          }
        },
        "cb611dbb90b34ab0b128ee8926978e45": {
          "model_module": "@jupyter-widgets/base",
          "model_module_version": "1.2.0",
          "model_name": "LayoutModel",
          "state": {
            "_model_module": "@jupyter-widgets/base",
            "_model_module_version": "1.2.0",
            "_model_name": "LayoutModel",
            "_view_count": null,
            "_view_module": "@jupyter-widgets/base",
            "_view_module_version": "1.2.0",
            "_view_name": "LayoutView",
            "align_content": null,
            "align_items": null,
            "align_self": null,
            "border": null,
            "bottom": null,
            "display": null,
            "flex": null,
            "flex_flow": null,
            "grid_area": null,
            "grid_auto_columns": null,
            "grid_auto_flow": null,
            "grid_auto_rows": null,
            "grid_column": null,
            "grid_gap": null,
            "grid_row": null,
            "grid_template_areas": null,
            "grid_template_columns": null,
            "grid_template_rows": null,
            "height": null,
            "justify_content": null,
            "justify_items": null,
            "left": null,
            "margin": null,
            "max_height": null,
            "max_width": null,
            "min_height": null,
            "min_width": null,
            "object_fit": null,
            "object_position": null,
            "order": null,
            "overflow": null,
            "overflow_x": null,
            "overflow_y": null,
            "padding": null,
            "right": null,
            "top": null,
            "visibility": null,
            "width": null
          }
        },
        "ce69ac704744482eb6d1ccb5ed372921": {
          "model_module": "@jupyter-widgets/controls",
          "model_module_version": "1.5.0",
          "model_name": "HBoxModel",
          "state": {
            "_dom_classes": [],
            "_model_module": "@jupyter-widgets/controls",
            "_model_module_version": "1.5.0",
            "_model_name": "HBoxModel",
            "_view_count": null,
            "_view_module": "@jupyter-widgets/controls",
            "_view_module_version": "1.5.0",
            "_view_name": "HBoxView",
            "box_style": "",
            "children": [
              "IPY_MODEL_c33ad56bd76745e4a700e3970635e875",
              "IPY_MODEL_c7670260b27b4314950d9635066f0b68",
              "IPY_MODEL_38596fcae4c24e8daa21cb9e8883d206"
            ],
            "layout": "IPY_MODEL_7fa40939d9b34316bdc1a265250556e7"
          }
        },
        "d3c33eb485c74c8c8b20996d98d9d80f": {
          "model_module": "@jupyter-widgets/base",
          "model_module_version": "1.2.0",
          "model_name": "LayoutModel",
          "state": {
            "_model_module": "@jupyter-widgets/base",
            "_model_module_version": "1.2.0",
            "_model_name": "LayoutModel",
            "_view_count": null,
            "_view_module": "@jupyter-widgets/base",
            "_view_module_version": "1.2.0",
            "_view_name": "LayoutView",
            "align_content": null,
            "align_items": null,
            "align_self": null,
            "border": null,
            "bottom": null,
            "display": null,
            "flex": null,
            "flex_flow": null,
            "grid_area": null,
            "grid_auto_columns": null,
            "grid_auto_flow": null,
            "grid_auto_rows": null,
            "grid_column": null,
            "grid_gap": null,
            "grid_row": null,
            "grid_template_areas": null,
            "grid_template_columns": null,
            "grid_template_rows": null,
            "height": null,
            "justify_content": null,
            "justify_items": null,
            "left": null,
            "margin": null,
            "max_height": null,
            "max_width": null,
            "min_height": null,
            "min_width": null,
            "object_fit": null,
            "object_position": null,
            "order": null,
            "overflow": null,
            "overflow_x": null,
            "overflow_y": null,
            "padding": null,
            "right": null,
            "top": null,
            "visibility": null,
            "width": null
          }
        },
        "e09b20de1c054f899d9ef0892d99b375": {
          "model_module": "@jupyter-widgets/controls",
          "model_module_version": "1.5.0",
          "model_name": "ProgressStyleModel",
          "state": {
            "_model_module": "@jupyter-widgets/controls",
            "_model_module_version": "1.5.0",
            "_model_name": "ProgressStyleModel",
            "_view_count": null,
            "_view_module": "@jupyter-widgets/base",
            "_view_module_version": "1.2.0",
            "_view_name": "StyleView",
            "bar_color": null,
            "description_width": ""
          }
        }
      }
    }
  },
  "nbformat": 4,
  "nbformat_minor": 0
}
